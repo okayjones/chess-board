{
 "cells": [
  {
   "cell_type": "code",
   "execution_count": 1,
   "metadata": {},
   "outputs": [],
   "source": [
    "import numpy as np\n",
    "#import matplotlib.pylot as plt"
   ]
  },
  {
   "cell_type": "code",
   "execution_count": 4,
   "metadata": {},
   "outputs": [
    {
     "ename": "SyntaxError",
     "evalue": "unexpected EOF while parsing (<ipython-input-4-b6773cd4d9c9>, line 2)",
     "output_type": "error",
     "traceback": [
      "\u001b[0;36m  File \u001b[0;32m\"<ipython-input-4-b6773cd4d9c9>\"\u001b[0;36m, line \u001b[0;32m2\u001b[0m\n\u001b[0;31m    # help(np.ones)\u001b[0m\n\u001b[0m                   ^\u001b[0m\n\u001b[0;31mSyntaxError\u001b[0m\u001b[0;31m:\u001b[0m unexpected EOF while parsing\n"
     ]
    }
   ],
   "source": [
    "grid = np.ones((8, 8, 3) # whitebackground, black would be np.zeros\n",
    "# help(np.ones)"
   ]
  },
  {
   "cell_type": "code",
   "execution_count": null,
   "metadata": {},
   "outputs": [],
   "source": [
    "# help(plt.imshow)\n",
    "# grid[0][0] #array at index 0.0.0 (rgb = black)\n",
    "#grid[0][0] = (1, 1, 1) #red = (1, 0, 0) #blue = (0, 0, 1)\n",
    "\n",
    "white = (1, 1, 1)\n",
    "for i in range(8):\n",
    "    grid[i][i] = white #will color diagonally\n",
    "\n",
    "plt.imshow(grid)"
   ]
  },
  {
   "cell_type": "code",
   "execution_count": null,
   "metadata": {},
   "outputs": [],
   "source": [
    "class Board:\n",
    "    def __init__(self):\n",
    "        self.grid = np.zeros(8, 8, 3)\n",
    "\n",
    "    def add_red(self, row, col):\n",
    "        pass\n",
    "    \n",
    "    def add_blue(self, row, col):\n",
    "        pass\n",
    "    \n",
    "    def render(self):\n",
    "        pass\n",
    "\n",
    "    def is_under_attack(self):\n",
    "        pass"
   ]
  }
 ],
 "metadata": {
  "kernelspec": {
   "display_name": "Python 3",
   "language": "python",
   "name": "python3"
  },
  "language_info": {
   "codemirror_mode": {
    "name": "ipython",
    "version": 3
   },
   "file_extension": ".py",
   "mimetype": "text/x-python",
   "name": "python",
   "nbconvert_exporter": "python",
   "pygments_lexer": "ipython3",
   "version": "3.9.0"
  }
 },
 "nbformat": 4,
 "nbformat_minor": 2
}
